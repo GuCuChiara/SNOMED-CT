{
  "nbformat": 4,
  "nbformat_minor": 0,
  "metadata": {
    "colab": {
      "provenance": [],
      "authorship_tag": "ABX9TyO+MDP9de1mdj6JQT08CBbp",
      "include_colab_link": true
    },
    "kernelspec": {
      "name": "python3",
      "display_name": "Python 3"
    },
    "language_info": {
      "name": "python"
    }
  },
  "cells": [
    {
      "cell_type": "markdown",
      "metadata": {
        "id": "view-in-github",
        "colab_type": "text"
      },
      "source": [
        "<a href=\"https://colab.research.google.com/github/GuCuChiara/SNOMED-CT/blob/main/JOIN_ECLs_SNOMED_FINAL.ipynb\" target=\"_parent\"><img src=\"https://colab.research.google.com/assets/colab-badge.svg\" alt=\"Open In Colab\"/></a>"
      ]
    },
    {
      "cell_type": "markdown",
      "source": [
        "# Jupiter para extracción de conceptos de búsquedas ECL que están en el CORE SUBSET (Junio 2024):"
      ],
      "metadata": {
        "id": "xb2Mt7IKjdjC"
      }
    },
    {
      "cell_type": "code",
      "execution_count": 1,
      "metadata": {
        "colab": {
          "base_uri": "https://localhost:8080/"
        },
        "id": "ymmNdg1PhJst",
        "outputId": "be6822b5-cf9e-468f-fe22-fb8a34281c48"
      },
      "outputs": [
        {
          "output_type": "stream",
          "name": "stdout",
          "text": [
            "Mounted at /content/drive\n"
          ]
        }
      ],
      "source": [
        "from google.colab import drive\n",
        "drive.mount('/content/drive')"
      ]
    },
    {
      "cell_type": "markdown",
      "source": [
        "###Cargar en la carpeta drive el archivo dummy.txt con la búsqueda ECL, a partir de la hoja excel de la prestación."
      ],
      "metadata": {
        "id": "s9lai31YjiDv"
      }
    },
    {
      "cell_type": "code",
      "source": [
        "import pandas as pd\n",
        "# Ruta del archivo CORE MASTER 2024 en Google Drive:\n",
        "file_path = '/content/drive/MyDrive/Colab Notebooks/AMS-scripts/SNOMED-CT/JOIN-ECLs-SNOMED/CORE-MASTER-CSV-JUN2024.csv'\n",
        "\n",
        "# Leemos el archivo en el DataFrame, especificando que las columnas numéricas se lean como texto\n",
        "dtype = {\n",
        "  'conceptId': str,\n",
        "  }\n",
        "# Leemos el archivo en un DataFrame\n",
        "CORE_MASTER = pd.read_csv(file_path, delimiter=',',dtype=dtype)\n",
        "\n",
        "# Ruta del archivo dummy.txt en Google Drive:\n",
        "file_path5 = '/content/drive/MyDrive/Colab Notebooks/AMS-scripts/SNOMED-CT/JOIN-ECLs-SNOMED/dummy.txt'\n",
        "\n",
        "#especificamos formato texto para conceptId\n",
        "dtype = {\n",
        "    'conceptId': str,\n",
        "}\n",
        "\n",
        "# Leer el archivo en un DataFrame\n",
        "dummy = pd.read_csv(file_path5, delimiter='\\t', dtype=dtype)\n",
        "\n",
        "# eliminamos antes del join las columnas no deseadas:\n",
        "dummy = dummy.drop(columns=['Preferred Term'])\n",
        "\n",
        "#dummy_inner_join = pd.merge(CORE_MASTER, dummy, on='conceptId', how='inner')\n",
        "dummy_inner_join= pd.merge(CORE_MASTER, dummy, on=['conceptId', 'SNOMED_DESC'], how='inner')\n",
        "dummy_outer_join = pd.merge(CORE_MASTER, dummy, on='conceptId', how='outer')\n",
        "\n",
        "# Ruta para guardar el archivo con inner join en Google Drive\n",
        "output_file_path1 = '/content/drive/MyDrive/Colab Notebooks/AMS-scripts/SNOMED-CT/JOIN-ECLs-SNOMED/dummy_inner_join.txt'\n",
        "\n",
        "# Ruta para guardar el archivo con outer join en Google Drive\n",
        "output_file_path2 = '/content/drive/MyDrive/Colab Notebooks/AMS-scripts/SNOMED-CT/JOIN-ECLs-SNOMED/dummy_outer_join.txt'\n",
        "\n",
        "# Guardamos los DataFrames como archivos de texto\n",
        "dummy_inner_join.to_csv(output_file_path1, index=False, encoding='latin1', sep='\\t')\n",
        "dummy_outer_join.to_csv(output_file_path2, index=False, encoding='latin1', sep='\\t')\n",
        "\n",
        "print(f'Archivos guardados en:')\n",
        "print(f'dummy_inner_join: {output_file_path1}')\n",
        "print(f'dummy_outer_join: {output_file_path2}')"
      ],
      "metadata": {
        "colab": {
          "base_uri": "https://localhost:8080/"
        },
        "id": "CWf5PCkqhUPN",
        "outputId": "8e3a1a2f-74e7-4be3-dd50-24ed379a7365"
      },
      "execution_count": 7,
      "outputs": [
        {
          "output_type": "stream",
          "name": "stdout",
          "text": [
            "Archivos guardados en:\n",
            "dummy_inner_join: /content/drive/MyDrive/Colab Notebooks/AMS-scripts/SNOMED-CT/JOIN-ECLs-SNOMED/dummy_inner_join.txt\n",
            "dummy_outer_join: /content/drive/MyDrive/Colab Notebooks/AMS-scripts/SNOMED-CT/JOIN-ECLs-SNOMED/dummy_outer_join.txt\n"
          ]
        }
      ]
    }
  ]
}